{
 "cells": [
  {
   "cell_type": "markdown",
   "id": "second-contractor",
   "metadata": {},
   "source": [
    "# Natural language processing: project - Dataset Demo"
   ]
  },
  {
   "cell_type": "code",
   "execution_count": 1,
   "id": "public-protein",
   "metadata": {},
   "outputs": [],
   "source": [
    "import os"
   ]
  },
  {
   "cell_type": "code",
   "execution_count": 2,
   "id": "raised-satin",
   "metadata": {},
   "outputs": [],
   "source": [
    "CD_KEY = \"--IN_ROOT\""
   ]
  },
  {
   "cell_type": "code",
   "execution_count": 3,
   "id": "selective-season",
   "metadata": {},
   "outputs": [],
   "source": [
    "if CD_KEY not in os.environ:\n",
    "    os.environ[CD_KEY] = \"false\""
   ]
  },
  {
   "cell_type": "code",
   "execution_count": 4,
   "id": "sporting-timothy",
   "metadata": {},
   "outputs": [],
   "source": [
    "if (\n",
    "    CD_KEY not in os.environ\n",
    "    or os.environ[CD_KEY] is None\n",
    "    or len(os.environ[CD_KEY]) == 0\n",
    "    or os.environ[CD_KEY] == \"false\"\n",
    "):\n",
    "    %cd ..\n",
    "else:\n",
    "    print(os.getcwd())\n",
    "    \n",
    "os.environ[CD_KEY] = \"true\""
   ]
  },
  {
   "cell_type": "markdown",
   "id": "dress-contributor",
   "metadata": {},
   "source": [
    "## Importing modules"
   ]
  },
  {
   "cell_type": "code",
   "execution_count": 5,
   "id": "unique-steel",
   "metadata": {},
   "outputs": [],
   "source": [
    "from src.modelling.datasets import (\n",
    "    IMDBDataset,\n",
    "    ProcessedIMDBDataset,\n",
    "    MinHashIMDBDataset,\n",
    ")"
   ]
  },
  {
   "cell_type": "markdown",
   "id": "referenced-christian",
   "metadata": {},
   "source": [
    "## Demonstration"
   ]
  },
  {
   "cell_type": "markdown",
   "id": "logical-found",
   "metadata": {},
   "source": [
    "### IMDBDataset"
   ]
  },
  {
   "cell_type": "markdown",
   "id": "matched-glenn",
   "metadata": {},
   "source": [
    "This class serves as a base IMDB dataset Dataset. The dataset is loaded from the TSV file and offered with no further modification. This is generally not useful for model input."
   ]
  },
  {
   "cell_type": "code",
   "execution_count": 6,
   "id": "cordless-print",
   "metadata": {},
   "outputs": [
    {
     "name": "stdout",
     "output_type": "stream",
     "text": [
      "Reading dataset (data/processed/ready-to-use/imdb/train.tsv): 25000it [00:00, 43718.45it/s]\n"
     ]
    }
   ],
   "source": [
    "imdb_dataset = IMDBDataset(\n",
    "    path=\"data/processed/ready-to-use/imdb/train.tsv\",\n",
    "    verbosity=1,\n",
    ")"
   ]
  },
  {
   "cell_type": "code",
   "execution_count": 7,
   "id": "infectious-campbell",
   "metadata": {},
   "outputs": [
    {
     "name": "stdout",
     "output_type": "stream",
     "text": [
      "This film reminds me of how college students used to protest against the Vietnam War . As if upon hearing some kids were doing without cheeseburgers in Cow Dung Collehe the President was going to immediately change all US foreign policy . The worst thing is that while dangerous the concept of a policy based on if the USSR and US went to war it could mean the end of the world WORKED . The US and USSR NEVER WENT TO WAR . Had we only conventional weapons the notion of yet another war a win able war in Europe and Asia was not unthinkable . Not that I think they should get rid of this movie . It should be seen by film students as a splendid example of How NOT to make a film . It should be 0 stars or maybe black holes ...\n",
      "\n",
      "Labeled as negative\n",
      "\n",
      "\n",
      "I love Memoirs of a Geisha so I read the book twice it is one of the best book I 've read last year . I was looking forward to the movie and was afraid that reading the book would ruin the viewing pleasure of the movie . I was n't expecting the movie to be that bad . Some of the best part of the book was omitted from the movie and the characters were weak with Hatsumomo Li Gong been the worst . If I have n't read the book this movie would be a little confusing and inexplicable . The Plot Outline of the movie states Nitta Sayuri reveals how she transcended her fishing ... Did anyone see how or when Sayuri became Nitta Sayuri ? Forget the movie and read the book .\n",
      "\n",
      "Labeled as negative\n",
      "\n",
      "\n",
      "If you are expecting to see a lot in the bath of Altıoklar as it is promised by the tag line you will be very disappointed to see that the movie consists of nothing but the populist style of Altıoklar regarding most famous issues like sex marriage and cheating . To much nudity which seems to appear from nowhere and has no connection or whatsoever to the plot proves that Altıoklar was unsuccessfully to try something new as he has quoted . To much sex centered jokes seems to show that Altıoklar had fallen for the famous saying which is sex sells . I was hoping to see a very good story told with a very good narration technique . However in the end I found myself sitting down for 90 minutes and watching Altıoklar 's experimental yet still to much focused on popularism work .\n",
      "\n",
      "Labeled as negative\n",
      "\n",
      "\n"
     ]
    }
   ],
   "source": [
    "for text, label in imdb_dataset[:3]:\n",
    "    print(f\"{text}\\n\\nLabeled as {'negative' if label == 0 else 'positive'}\\n\\n\")"
   ]
  },
  {
   "cell_type": "markdown",
   "id": "rough-paint",
   "metadata": {},
   "source": [
    "### ProcessedIMDBDataset"
   ]
  },
  {
   "cell_type": "markdown",
   "id": "formal-bride",
   "metadata": {},
   "source": [
    "This class is a bit more useful - it uses an existing IMDBDataset object and applies a preprocessing function on it. By default, it is tokenized over whitespace, which should yield us the tokenization we want before hashing."
   ]
  },
  {
   "cell_type": "code",
   "execution_count": 8,
   "id": "impressed-russia",
   "metadata": {},
   "outputs": [
    {
     "name": "stdout",
     "output_type": "stream",
     "text": [
      "Preprocessing IMDB dataset: 100%|██████████| 25000/25000 [00:02<00:00, 10073.47it/s]\n"
     ]
    }
   ],
   "source": [
    "processed_imdb_dataset = ProcessedIMDBDataset(\n",
    "    imdb_dataset=imdb_dataset,\n",
    "    verbosity=1,\n",
    ")"
   ]
  },
  {
   "cell_type": "code",
   "execution_count": 9,
   "id": "productive-folder",
   "metadata": {},
   "outputs": [
    {
     "name": "stdout",
     "output_type": "stream",
     "text": [
      "['This', 'film', 'reminds', 'me', 'of', 'how', 'college', 'students', 'used', 'to', 'protest', 'against', 'the', 'Vietnam', 'War', '.', 'As', 'if', 'upon', 'hearing', 'some', 'kids', 'were', 'doing', 'without', 'cheeseburgers', 'in', 'Cow', 'Dung', 'Collehe', 'the', 'President', 'was', 'going', 'to', 'immediately', 'change', 'all', 'US', 'foreign', 'policy', '.', 'The', 'worst', 'thing', 'is', 'that', 'while', 'dangerous', 'the', 'concept', 'of', 'a', 'policy', 'based', 'on', 'if', 'the', 'USSR', 'and', 'US', 'went', 'to', 'war', 'it', 'could', 'mean', 'the', 'end', 'of', 'the', 'world', 'WORKED', '.', 'The', 'US', 'and', 'USSR', 'NEVER', 'WENT', 'TO', 'WAR', '.', 'Had', 'we', 'only', 'conventional', 'weapons', 'the', 'notion', 'of', 'yet', 'another', 'war', 'a', 'win', 'able', 'war', 'in', 'Europe', 'and', 'Asia', 'was', 'not', 'unthinkable', '.', 'Not', 'that', 'I', 'think', 'they', 'should', 'get', 'rid', 'of', 'this', 'movie', '.', 'It', 'should', 'be', 'seen', 'by', 'film', 'students', 'as', 'a', 'splendid', 'example', 'of', 'How', 'NOT', 'to', 'make', 'a', 'film', '.', 'It', 'should', 'be', '0', 'stars', 'or', 'maybe', 'black', 'holes', '...']\n",
      "\n",
      "Labeled as negative\n",
      "\n",
      "\n",
      "['I', 'love', 'Memoirs', 'of', 'a', 'Geisha', 'so', 'I', 'read', 'the', 'book', 'twice', 'it', 'is', 'one', 'of', 'the', 'best', 'book', 'I', \"'ve\", 'read', 'last', 'year', '.', 'I', 'was', 'looking', 'forward', 'to', 'the', 'movie', 'and', 'was', 'afraid', 'that', 'reading', 'the', 'book', 'would', 'ruin', 'the', 'viewing', 'pleasure', 'of', 'the', 'movie', '.', 'I', 'was', \"n't\", 'expecting', 'the', 'movie', 'to', 'be', 'that', 'bad', '.', 'Some', 'of', 'the', 'best', 'part', 'of', 'the', 'book', 'was', 'omitted', 'from', 'the', 'movie', 'and', 'the', 'characters', 'were', 'weak', 'with', 'Hatsumomo', 'Li', 'Gong', 'been', 'the', 'worst', '.', 'If', 'I', 'have', \"n't\", 'read', 'the', 'book', 'this', 'movie', 'would', 'be', 'a', 'little', 'confusing', 'and', 'inexplicable', '.', 'The', 'Plot', 'Outline', 'of', 'the', 'movie', 'states', 'Nitta', 'Sayuri', 'reveals', 'how', 'she', 'transcended', 'her', 'fishing', '...', 'Did', 'anyone', 'see', 'how', 'or', 'when', 'Sayuri', 'became', 'Nitta', 'Sayuri', '?', 'Forget', 'the', 'movie', 'and', 'read', 'the', 'book', '.']\n",
      "\n",
      "Labeled as negative\n",
      "\n",
      "\n",
      "['If', 'you', 'are', 'expecting', 'to', 'see', 'a', 'lot', 'in', 'the', 'bath', 'of', 'Altıoklar', 'as', 'it', 'is', 'promised', 'by', 'the', 'tag', 'line', 'you', 'will', 'be', 'very', 'disappointed', 'to', 'see', 'that', 'the', 'movie', 'consists', 'of', 'nothing', 'but', 'the', 'populist', 'style', 'of', 'Altıoklar', 'regarding', 'most', 'famous', 'issues', 'like', 'sex', 'marriage', 'and', 'cheating', '.', 'To', 'much', 'nudity', 'which', 'seems', 'to', 'appear', 'from', 'nowhere', 'and', 'has', 'no', 'connection', 'or', 'whatsoever', 'to', 'the', 'plot', 'proves', 'that', 'Altıoklar', 'was', 'unsuccessfully', 'to', 'try', 'something', 'new', 'as', 'he', 'has', 'quoted', '.', 'To', 'much', 'sex', 'centered', 'jokes', 'seems', 'to', 'show', 'that', 'Altıoklar', 'had', 'fallen', 'for', 'the', 'famous', 'saying', 'which', 'is', 'sex', 'sells', '.', 'I', 'was', 'hoping', 'to', 'see', 'a', 'very', 'good', 'story', 'told', 'with', 'a', 'very', 'good', 'narration', 'technique', '.', 'However', 'in', 'the', 'end', 'I', 'found', 'myself', 'sitting', 'down', 'for', '90', 'minutes', 'and', 'watching', 'Altıoklar', \"'s\", 'experimental', 'yet', 'still', 'to', 'much', 'focused', 'on', 'popularism', 'work', '.']\n",
      "\n",
      "Labeled as negative\n",
      "\n",
      "\n"
     ]
    }
   ],
   "source": [
    "for text, label in processed_imdb_dataset[:3]:\n",
    "    print(f\"{text}\\n\\nLabeled as {'negative' if label == 0 else 'positive'}\\n\\n\")"
   ]
  },
  {
   "cell_type": "markdown",
   "id": "emotional-taste",
   "metadata": {},
   "source": [
    "### MinHashIMDBDataset"
   ]
  },
  {
   "cell_type": "markdown",
   "id": "valued-screen",
   "metadata": {},
   "source": [
    "This will likely be the primary dataset class we will use. It builds on the **ProcessedIMDBDataset** base, applying MinHash on each token and returning a bitarray instead of the token string."
   ]
  },
  {
   "cell_type": "markdown",
   "id": "fewer-gambling",
   "metadata": {},
   "source": [
    "We give it an additional parameter, `n_permutations`, which designates how many hash function permutations the MinHash algorithm does. In layman terms, the bigger the `n_permutations` parameter, the bigger the output. Each additional permutation increases the output size by **4 bytes**, or in other words **32 bits**. In PRADO terms, each permutation will increase the **B** parameter by **16**, since our hashing function provides **2B** bytes."
   ]
  },
  {
   "cell_type": "code",
   "execution_count": 10,
   "id": "spoken-entrance",
   "metadata": {},
   "outputs": [
    {
     "name": "stdout",
     "output_type": "stream",
     "text": [
      "Preprocessing IMDB dataset: 100%|██████████| 25000/25000 [00:02<00:00, 9113.51it/s] \n",
      "Hashing IMDB dataset: 100%|██████████| 25000/25000 [03:20<00:00, 124.39it/s]\n"
     ]
    }
   ],
   "source": [
    "minhash_imdb_dataset = MinHashIMDBDataset(\n",
    "    imdb_dataset=imdb_dataset,\n",
    "    n_permutations=2,\n",
    "    verbosity=1,\n",
    ")"
   ]
  },
  {
   "cell_type": "code",
   "execution_count": 11,
   "id": "genetic-cartoon",
   "metadata": {
    "scrolled": false
   },
   "outputs": [
    {
     "name": "stdout",
     "output_type": "stream",
     "text": [
      "bitarray('0110000010000100100010100001110111100101101011001001111110100000')\n",
      "bitarray('0111000110100110111110101101111110010111111010011010011100111111')\n",
      "bitarray('0111111001011101100011101101101111100000110111010001000100111111')\n",
      "bitarray('0111011010100001110110101110000000001100000011000011011101000000')\n",
      "bitarray('1111100101111100000100111101110100011110000110100001101010111100')\n",
      "bitarray('0110100111101111010101010000100110100001101110000111001000101100')\n",
      "bitarray('1000000110110001101111000101111111001101001000001100011010000010')\n",
      "bitarray('1001000111011101001100000001001000110000110010100110100010100100')\n",
      "bitarray('1001000010101010110011011001100001001110101000010110010111100000')\n",
      "bitarray('1110111001100111011000100100100111100101100010000010101110001100')\n",
      "bitarray('0001000110100100000010010101001001000111000101101011110000000111')\n",
      "bitarray('1101111101100001101110100001010011101111011100110110111110100001')\n",
      "bitarray('0001110111011100111000010010010010000110111000101100000000100000')\n",
      "bitarray('0011110110100101011011010010101011111101101111010001001000011011')\n",
      "bitarray('1110110111111011111111000100110000110000010110010010101010000110')\n",
      "bitarray('0010101000001010110011011000100001100101111010011000000111100111')\n",
      "bitarray('0001011100101101110000010001111010100100001011010000010000011101')\n",
      "bitarray('0110110111011001011101010111110010000001110001001111110111101110')\n",
      "bitarray('1111101100101111101010011010001101011100101110101101101111011111')\n",
      "bitarray('0110100011100000100100110001000101000000101101000110101100101001')\n",
      "bitarray('1010100101011111100001110001001010000100001111100011110100100010')\n",
      "bitarray('0001010001111001011010101101101101010011011101011101011101000010')\n",
      "bitarray('0111111101111000101000100110000010101011011111001001111101111010')\n",
      "bitarray('0100110010000110110000001110001111111001101010111100010000111110')\n",
      "bitarray('0111111100111011001101000001111001011110110000011111111010100001')\n",
      "bitarray('1011001110000000010001101011100001111010100010010101010101001110')\n",
      "bitarray('0110110000010101001100010111101110110101111011011101001111110011')\n",
      "bitarray('1100011101111010110011100101110111100001000100100011110110000010')\n",
      "bitarray('1001011000001110100100000100110010111110010010111110000010001011')\n",
      "bitarray('1010001010110110111101110001000110110000111000101000010100100110')\n",
      "bitarray('0001110111011100111000010010010010000110111000101100000000100000')\n",
      "bitarray('1000101000001010010110000000101011010100101000111111000010101010')\n",
      "bitarray('1111101010101101001000000100101100100100101011001001100010000101')\n",
      "bitarray('0010111100010000000001010111000000000100011111110001110111110101')\n",
      "bitarray('1110111001100111011000100100100111100101100010000010101110001100')\n",
      "bitarray('0000000111101111011101100001000110100111011100110100010110100101')\n",
      "bitarray('1000110100101110100000000010010101111010110001101111000010100000')\n",
      "bitarray('1111000101010011110010000011100010110000011011101100100010010001')\n",
      "bitarray('1100100100011100010101010101100000101101010110010010111000000011')\n",
      "bitarray('1110101010010011101011001111101010110101111001100110001000101110')\n",
      "bitarray('0110110110100010100000101001000101011000001001110011111101100110')\n",
      "bitarray('0010101000001010110011011000100001100101111010011000000111100111')\n",
      "bitarray('1110101111101000101101111010001000111101111010000101010011011010')\n",
      "bitarray('0001011001100101110001101101001111101010111110010001000101001001')\n",
      "bitarray('1010001001000101100010110010110001111101110101000100111100010011')\n",
      "bitarray('1011111010101011001100111101100010100100001101010011111011000001')\n",
      "bitarray('0011110010101011000001000011000111101001110111001001001010010110')\n",
      "bitarray('0110011111000010111100100111001010111001111111001010011101110001')\n",
      "bitarray('0100101000010111111010110010010010000001101100001000011100011010')\n",
      "bitarray('0001110111011100111000010010010010000110111000101100000000100000')\n",
      "bitarray('0001000101011111000100000110000110010010001100110110100001111111')\n",
      "bitarray('1111100101111100000100111101110100011110000110100001101010111100')\n",
      "bitarray('0001110000101010000101110100011101010110010101011101000100001011')\n",
      "bitarray('0110110110100010100000101001000101011000001001110011111101100110')\n",
      "bitarray('0111101110010100100011101000110111010001101101111010000101100110')\n",
      "bitarray('1100011111111011011000010000100010011101010000111011100000101011')\n",
      "bitarray('0110110111011001011101010111110010000001110001001111110111101110')\n",
      "bitarray('0001110111011100111000010010010010000110111000101100000000100000')\n",
      "bitarray('0110111111110001100111100100010010001010001101110000110110001001')\n",
      "bitarray('0001101101110011101001001010111110111100000000011100001001010110')\n",
      "bitarray('1100100100011100010101010101100000101101010110010010111000000011')\n",
      "bitarray('0101101010111101101100100110111000001110000100011111101101111010')\n",
      "bitarray('1110111001100111011000100100100111100101100010000010101110001100')\n",
      "bitarray('1100000111001110000010011111010111011000000101011001101110110011')\n",
      "bitarray('1001000000111011010000010110101111101111000000101110011111110101')\n",
      "bitarray('1000011110011011000100011001010101100110100001111111011111100101')\n",
      "bitarray('0010100000011001100000010111011100101101110110111010101111110000')\n",
      "bitarray('0001110111011100111000010010010010000110111000101100000000100000')\n",
      "bitarray('1111110010001111011111000111011110101101000000011010111001110000')\n",
      "bitarray('1111100101111100000100111101110100011110000110100001101010111100')\n",
      "bitarray('0001110111011100111000010010010010000110111000101100000000100000')\n",
      "bitarray('1100111001110101110000110011010000110000100100010111111100010001')\n",
      "bitarray('0001111011100111001001101110001000110010001110101101110100111011')\n",
      "bitarray('0010101000001010110011011000100001100101111010011000000111100111')\n",
      "bitarray('1110101111101000101101111010001000111101111010000101010011011010')\n",
      "bitarray('1100100100011100010101010101100000101101010110010010111000000011')\n",
      "bitarray('0001101101110011101001001010111110111100000000011100001001010110')\n",
      "bitarray('0110111111110001100111100100010010001010001101110000110110001001')\n",
      "bitarray('0110110010110011100001101110000100101111110001110110000101000010')\n",
      "bitarray('1100101001010010100011001110101010001111010001000111011000111001')\n",
      "bitarray('0101100110010101111011101101011110011011101100111001010101000100')\n",
      "bitarray('1000001111010011011110010100001111000100100110011101010000001010')\n",
      "bitarray('0010101000001010110011011000100001100101111010011000000111100111')\n",
      "bitarray('1100001001111011000101101111000001100011010010001100100100110011')\n",
      "bitarray('1111011101100011110100001001100010011000001111011110010001100001')\n",
      "bitarray('1011100101101010000010101100111111100111100000101110111101000111')\n",
      "bitarray('1001001010111100010011111110111001110100111101011110000010111001')\n",
      "bitarray('0000000101110100101010101100001111011001010101011011101101001110')\n",
      "bitarray('0001110111011100111000010010010010000110111000101100000000100000')\n",
      "bitarray('0100001110111000111111000110010100000011001101111011111001111000')\n",
      "bitarray('1111100101111100000100111101110100011110000110100001101010111100')\n",
      "bitarray('0000001100010110110000001000111010101010001011001000100001101100')\n",
      "bitarray('0111100010011010100011001110111111001110110011011100001000110101')\n",
      "bitarray('1100000111001110000010011111010111011000000101011001101110110011')\n",
      "bitarray('0001110000101010000101110100011101010110010101011101000100001011')\n",
      "bitarray('1011001101011010010001000001111101000101100011111100001010011100')\n",
      "bitarray('1101111111101110001100100101100110001100111010011111001101111111')\n",
      "bitarray('1100000111001110000010011111010111011000000101011001101110110011')\n",
      "bitarray('0110110000010101001100010111101110110101111011011101001111110011')\n",
      "bitarray('1100000110011100011001011011010010000111110110101111100111010110')\n",
      "bitarray('0001101101110011101001001010111110111100000000011100001001010110')\n",
      "bitarray('0100000001100011010110110001010010010010011110000101001100100011')\n",
      "bitarray('1111101010101101001000000100101100100100101011001001100010000101')\n",
      "bitarray('0100001010011011111101110110101100000010110101001000110011111100')\n",
      "bitarray('1000001001010000011110101010011001010111111011010111001101011100')\n",
      "bitarray('0010101000001010110011011000100001100101111010011000000111100111')\n",
      "bitarray('0110111111111001010000001001110110011100100111011100010001011101')\n",
      "bitarray('0011110010101011000001000011000111101001110111001001001010010110')\n",
      "bitarray('1011010100000001000100000111110111111101000111110111110001101011')\n",
      "bitarray('1011110001111101001111011001000011000101101011011001010111100101')\n",
      "bitarray('1110010010001100011000110011010001011011011001100010111100010110')\n",
      "bitarray('0001111100011110110100001010000011100001011010000100100001011110')\n",
      "bitarray('0010110101011110111011000000110000001001101000101111001010100110')\n",
      "bitarray('0010101001001111111010101011101010011101010011011000001101001110')\n",
      "bitarray('1111100101111100000100111101110100011110000110100001101010111100')\n",
      "bitarray('0111100101110000011110110100001110000111011100010101001100010000')\n",
      "bitarray('0101001101101011110110101111000010010110010111000110011100111000')\n",
      "bitarray('0010101000001010110011011000100001100101111010011000000111100111')\n",
      "bitarray('0011011010000001100010100111011001100100100100101010011101110110')\n",
      "bitarray('0001111100011110110100001010000011100001011010000100100001011110')\n",
      "bitarray('0110000010110111011111111011110101011101000101100000010011001100')\n",
      "bitarray('1101100100011100001001011010111000101010000000001000000111010110')\n",
      "bitarray('0101001010000010111100010010010001110011101111111011100000100000')\n",
      "bitarray('0111000110100110111110101101111110010111111010011010011100111111')\n",
      "bitarray('1001000111011101001100000001001000110000110010100110100010100100')\n",
      "bitarray('1000111101111010010010111011101101110011001010110101001011010000')\n",
      "bitarray('0001110000101010000101110100011101010110010101011101000100001011')\n",
      "bitarray('1101010000101011110011010110001011010001000101000000100111111101')\n",
      "bitarray('0010011101100001110100010011111010100010101011010101110000010001')\n",
      "bitarray('1111100101111100000100111101110100011110000110100001101010111100')\n",
      "bitarray('0011001100111000001011001001010011001000001001111011011001100010')\n",
      "bitarray('0100011000110111011001011111111011101110101111001101000110110001')\n",
      "bitarray('1110111001100111011000100100100111100101100010000010101110001100')\n",
      "bitarray('1100101001011100110110110001001100110001111110111001001100100101')\n",
      "bitarray('0001110000101010000101110100011101010110010101011101000100001011')\n",
      "bitarray('0111000110100110111110101101111110010111111010011010011100111111')\n",
      "bitarray('0010101000001010110011011000100001100101111010011000000111100111')\n",
      "bitarray('0011011010000001100010100111011001100100100100101010011101110110')\n",
      "bitarray('0001111100011110110100001010000011100001011010000100100001011110')\n",
      "bitarray('0110000010110111011111111011110101011101000101100000010011001100')\n",
      "bitarray('0001110000101011011101111010000010001010000001101111010011011001')\n",
      "bitarray('1001011000111000111110111101011100001001100110010000111011000010')\n",
      "bitarray('1010010001111110011111110110111110011011111110110100100011110111')\n",
      "bitarray('1001010110101101110011000110001011101011000000000000101010000000')\n",
      "bitarray('0100111011011011101001101101111010100001000100110101000100111111')\n",
      "bitarray('0000100101001111110001101100110111001111100001000001000101001010')\n",
      "bitarray('0111000110011001001001100011100110110111110001100001100110010001')\n",
      "\n",
      "Labeled as negative\n",
      "\n",
      "\n"
     ]
    }
   ],
   "source": [
    "for text, label in minhash_imdb_dataset[:1]:\n",
    "    for token in text:\n",
    "        print(token)\n",
    "\n",
    "    print(f\"\\nLabeled as {'negative' if label == 0 else 'positive'}\\n\\n\")"
   ]
  }
 ],
 "metadata": {
  "kernelspec": {
   "display_name": "nlp-project",
   "language": "python",
   "name": "nlp-project"
  },
  "language_info": {
   "codemirror_mode": {
    "name": "ipython",
    "version": 3
   },
   "file_extension": ".py",
   "mimetype": "text/x-python",
   "name": "python",
   "nbconvert_exporter": "python",
   "pygments_lexer": "ipython3",
   "version": "3.8.5"
  }
 },
 "nbformat": 4,
 "nbformat_minor": 5
}
