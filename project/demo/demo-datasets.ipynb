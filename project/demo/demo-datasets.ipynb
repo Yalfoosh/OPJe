{
 "cells": [
  {
   "cell_type": "markdown",
   "id": "second-contractor",
   "metadata": {},
   "source": [
    "# Natural language processing: project - Dataset Demo"
   ]
  },
  {
   "cell_type": "code",
   "execution_count": 1,
   "id": "public-protein",
   "metadata": {},
   "outputs": [],
   "source": [
    "import os"
   ]
  },
  {
   "cell_type": "code",
   "execution_count": 2,
   "id": "raised-satin",
   "metadata": {},
   "outputs": [],
   "source": [
    "CD_KEY = \"--IN_ROOT\""
   ]
  },
  {
   "cell_type": "code",
   "execution_count": 3,
   "id": "selective-season",
   "metadata": {},
   "outputs": [],
   "source": [
    "if CD_KEY not in os.environ:\n",
    "    os.environ[CD_KEY] = \"false\""
   ]
  },
  {
   "cell_type": "code",
   "execution_count": 4,
   "id": "sporting-timothy",
   "metadata": {},
   "outputs": [
    {
     "name": "stdout",
     "output_type": "stream",
     "text": [
      "/mnt/data/projekti/faks/OPJe/project\n"
     ]
    }
   ],
   "source": [
    "if (\n",
    "    CD_KEY not in os.environ\n",
    "    or os.environ[CD_KEY] is None\n",
    "    or len(os.environ[CD_KEY]) == 0\n",
    "    or os.environ[CD_KEY] == \"false\"\n",
    "):\n",
    "    %cd ..\n",
    "else:\n",
    "    print(os.getcwd())\n",
    "    \n",
    "os.environ[CD_KEY] = \"true\""
   ]
  },
  {
   "cell_type": "markdown",
   "id": "dress-contributor",
   "metadata": {},
   "source": [
    "## Importing modules"
   ]
  },
  {
   "cell_type": "code",
   "execution_count": 5,
   "id": "unique-steel",
   "metadata": {},
   "outputs": [],
   "source": [
    "from prado.datasets import ProcessedDataset\n",
    "from prado.datasets import BasicPradoTransform, BasicPradoAugmentation\n",
    "\n",
    "from src.modelling.datasets import (\n",
    "    ImdbDataset\n",
    ")"
   ]
  },
  {
   "cell_type": "markdown",
   "id": "referenced-christian",
   "metadata": {},
   "source": [
    "## Demonstration"
   ]
  },
  {
   "cell_type": "markdown",
   "id": "logical-found",
   "metadata": {},
   "source": [
    "### ImdbDataset"
   ]
  },
  {
   "cell_type": "markdown",
   "id": "matched-glenn",
   "metadata": {},
   "source": [
    "This class serves as a base IMDB dataset Dataset. The dataset is loaded from the TSV file and offered with no further modification. This is generally not useful for model input."
   ]
  },
  {
   "cell_type": "code",
   "execution_count": 6,
   "id": "living-poison",
   "metadata": {},
   "outputs": [
    {
     "name": "stdout",
     "output_type": "stream",
     "text": [
      " This film reminds me of how college students used to protest against the Vietnam War. As if, upon hearing some kids were doing without cheeseburgers in Cow Dung Collehe, the President was going to immediately change all US foreign policy.  The worst thing is that, while dangerous, the concept of a policy based on if the USSR and US went to war it could mean the end of the world, WORKED. The US and USSR NEVER WENT TO WAR.  Had we only conventional weapons, the notion of yet another war, a \"win-able\" war, in Europe and Asia was not unthinkable.  Not that I think they should get rid of this movie. It should be seen by film students as a splendid example of \"How NOT to make a film.\"  It should be 0 stars or maybe black holes... \n",
      "\n",
      "Labeled as negative\n",
      "\n",
      "\n",
      " I love Memoirs of a Geisha so I read the book twice; it is one of the best book I've read last year. I was looking forward to the movie and was afraid that reading the book would ruin the viewing pleasure of the movie. I wasn't expecting the movie to be that bad. Some of the best part of the book was omitted from the movie and the characters were weak with Hatsumomo (Li Gong)been the worst. If I haven't read the book, this movie would be a little confusing and inexplicable. The Plot Outline of the movie states \"Nitta Sayuri reveals how she transcended her fishing...\" Did anyone see how or when Sayuri became Nitta Sayuri? Forget the movie and read the book. \n",
      "\n",
      "Labeled as negative\n",
      "\n",
      "\n",
      " If you are expecting to see a lot in the bath of Altıoklar, as it is promised by the tag line, you will be very disappointed to see that the movie consists of nothing but the populist style of Altıoklar regarding most famous issues like sex, marriage and cheating. To much nudity, which seems to appear from nowhere and has no connection or whatsoever to the plot proves that Altıoklar was unsuccessfully to \"try something new\" as he has quoted. To much sex centered jokes seems to show that Altıoklar had fallen for the famous saying which is \"sex sells.\" I was hoping to see a very good story told with a very good narration technique. However in the end I found myself sitting down for 90 minutes and watching Altıoklar's experimental yet still to much focused on popularism work. \n",
      "\n",
      "Labeled as negative\n",
      "\n",
      "\n"
     ]
    }
   ],
   "source": [
    "imdb_dataset = ImdbDataset(\n",
    "    path=\"data/processed/ready-to-use/imdb/train.tsv\",\n",
    "    delimiter=\"\\t\",\n",
    ")\n",
    "\n",
    "for text, label in imdb_dataset[:3]:\n",
    "    label_string = \"negative\" if label == 0 else \"positive\"\n",
    "    \n",
    "    print(f\"{text}\\n\\nLabeled as {label_string}\\n\\n\")"
   ]
  },
  {
   "cell_type": "markdown",
   "id": "likely-operator",
   "metadata": {},
   "source": [
    "### ProcessedDataset"
   ]
  },
  {
   "cell_type": "markdown",
   "id": "sexual-labor",
   "metadata": {},
   "source": [
    "We use an overloaded **Dataset** object to create a modified Dataset. We use transformations to achieve that with **ProcessedDataset**."
   ]
  },
  {
   "cell_type": "markdown",
   "id": "valuable-eagle",
   "metadata": {},
   "source": [
    "#### Transformations"
   ]
  },
  {
   "cell_type": "markdown",
   "id": "australian-reset",
   "metadata": {},
   "source": [
    "We define plenty of smaller transformations in `prado.datasets.transforms`, however we export 2 important ones:\n",
    "\n",
    "- `BasicPradoTransform`\n",
    "- `BasicPradoAugmentation`"
   ]
  },
  {
   "cell_type": "markdown",
   "id": "excessive-paragraph",
   "metadata": {},
   "source": [
    "We won't get a lot into detail here on what they do, but keep in mind that both can be used to preprocess the dataset for training."
   ]
  },
  {
   "cell_type": "markdown",
   "id": "eastern-gregory",
   "metadata": {},
   "source": [
    "#### BasicPradoTransform on ProcessedDataset"
   ]
  },
  {
   "cell_type": "markdown",
   "id": "dying-president",
   "metadata": {},
   "source": [
    "Let's apply the **BasicPradoTransform** on the text column (index **0**) of the `imdb_dataset`."
   ]
  },
  {
   "cell_type": "code",
   "execution_count": 7,
   "id": "crude-password",
   "metadata": {},
   "outputs": [],
   "source": [
    "basic_prado_transform = BasicPradoTransform()"
   ]
  },
  {
   "cell_type": "code",
   "execution_count": 8,
   "id": "above-danger",
   "metadata": {},
   "outputs": [
    {
     "name": "stdout",
     "output_type": "stream",
     "text": [
      "Transforming dataset: 100%|██████████| 25000/25000 [01:07<00:00, 370.88it/s]\n"
     ]
    }
   ],
   "source": [
    "basic_preprocessed_dataset = ProcessedDataset(\n",
    "    original_dataset=imdb_dataset,\n",
    "    transformation_map={\n",
    "        0: basic_prado_transform\n",
    "    },\n",
    "    verbosity=1,\n",
    ")"
   ]
  },
  {
   "cell_type": "code",
   "execution_count": 9,
   "id": "hearing-welsh",
   "metadata": {},
   "outputs": [
    {
     "name": "stdout",
     "output_type": "stream",
     "text": [
      "['this', 'film', 'reminds', 'me', 'of', 'how', 'college', 'students', 'used', 'to', 'protest', 'against', 'the', 'vietnam', 'war', '.', 'as', 'if', 'upon', 'hearing', 'some', 'kids', 'were', 'doing', 'without', 'cheeseburgers', 'in', 'cow', 'dung', 'collehe', 'the', 'president', 'was', 'going', 'to', 'immediately', 'change', 'all', 'us', 'foreign', 'policy', '.', 'the', 'worst', 'thing', 'is', 'that', 'while', 'dangerous', 'the', 'concept', 'of', 'a', 'policy', 'based', 'on', 'if', 'the', 'ussr', 'and', 'us', 'went', 'to', 'war', 'it', 'could', 'mean', 'the', 'end', 'of', 'the', 'world', 'worked', '.', 'the', 'us', 'and', 'ussr', 'never', 'went', 'to', 'war', '.', 'had', 'we', 'only', 'conventional', 'weapons', 'the', 'notion', 'of', 'yet', 'another', 'war', 'a', 'win', 'able', 'war', 'in', 'europe', 'and', 'asia', 'was', 'not', 'unthinkable', '.', 'not', 'that', 'i', 'think', 'they', 'should', 'get', 'rid', 'of', 'this', 'movie', '.', 'it', 'should', 'be', 'seen', 'by', 'film', 'students', 'as', 'a', 'splendid', 'example', 'of', 'how', 'not', 'to', 'make', 'a', 'film', '.', 'it', 'should', 'be', '0', 'stars', 'or', 'maybe', 'black', 'holes', '...']\n",
      "\n",
      "Labeled as negative\n",
      "\n",
      "\n",
      "['i', 'love', 'memoirs', 'of', 'a', 'geisha', 'so', 'i', 'read', 'the', 'book', 'twice', 'it', 'is', 'one', 'of', 'the', 'best', 'book', 'i', \"'ve\", 'read', 'last', 'year', '.', 'i', 'was', 'looking', 'forward', 'to', 'the', 'movie', 'and', 'was', 'afraid', 'that', 'reading', 'the', 'book', 'would', 'ruin', 'the', 'viewing', 'pleasure', 'of', 'the', 'movie', '.', 'i', 'was', \"n't\", 'expecting', 'the', 'movie', 'to', 'be', 'that', 'bad', '.', 'some', 'of', 'the', 'best', 'part', 'of', 'the', 'book', 'was', 'omitted', 'from', 'the', 'movie', 'and', 'the', 'characters', 'were', 'weak', 'with', 'hatsumomo', 'li', 'gong', 'been', 'the', 'worst', '.', 'if', 'i', 'have', \"n't\", 'read', 'the', 'book', 'this', 'movie', 'would', 'be', 'a', 'little', 'confusing', 'and', 'inexplicable', '.', 'the', 'plot', 'outline', 'of', 'the', 'movie', 'states', 'nitta', 'sayuri', 'reveals', 'how', 'she', 'transcended', 'her', 'fishing', '...', 'did', 'anyone', 'see', 'how', 'or', 'when', 'sayuri', 'became', 'nitta', 'sayuri', '?', 'forget', 'the', 'movie', 'and', 'read', 'the', 'book', '.']\n",
      "\n",
      "Labeled as negative\n",
      "\n",
      "\n",
      "['if', 'you', 'are', 'expecting', 'to', 'see', 'a', 'lot', 'in', 'the', 'bath', 'of', 'altıoklar', 'as', 'it', 'is', 'promised', 'by', 'the', 'tag', 'line', 'you', 'will', 'be', 'very', 'disappointed', 'to', 'see', 'that', 'the', 'movie', 'consists', 'of', 'nothing', 'but', 'the', 'populist', 'style', 'of', 'altıoklar', 'regarding', 'most', 'famous', 'issues', 'like', 'sex', 'marriage', 'and', 'cheating', '.', 'to', 'much', 'nudity', 'which', 'seems', 'to', 'appear', 'from', 'nowhere', 'and', 'has', 'no', 'connection', 'or', 'whatsoever', 'to', 'the', 'plot', 'proves', 'that', 'altıoklar', 'was', 'unsuccessfully', 'to', 'try', 'something', 'new', 'as', 'he', 'has', 'quoted', '.', 'to', 'much', 'sex', 'centered', 'jokes', 'seems', 'to', 'show', 'that', 'altıoklar', 'had', 'fallen', 'for', 'the', 'famous', 'saying', 'which', 'is', 'sex', 'sells', '.', 'i', 'was', 'hoping', 'to', 'see', 'a', 'very', 'good', 'story', 'told', 'with', 'a', 'very', 'good', 'narration', 'technique', '.', 'however', 'in', 'the', 'end', 'i', 'found', 'myself', 'sitting', 'down', 'for', '90', 'minutes', 'and', 'watching', 'altıoklar', \"'s\", 'experimental', 'yet', 'still', 'to', 'much', 'focused', 'on', 'popularism', 'work', '.']\n",
      "\n",
      "Labeled as negative\n",
      "\n",
      "\n"
     ]
    }
   ],
   "source": [
    "for text, label in basic_preprocessed_dataset[:3]:\n",
    "    label_string = \"negative\" if label == 0 else \"positive\"\n",
    "    \n",
    "    print(f\"{text}\\n\\nLabeled as {label_string}\\n\\n\")"
   ]
  },
  {
   "cell_type": "markdown",
   "id": "psychological-habitat",
   "metadata": {},
   "source": [
    "#### BasicPradoAugmentation on ProcessedDataset"
   ]
  },
  {
   "cell_type": "markdown",
   "id": "looking-child",
   "metadata": {},
   "source": [
    "We can now augment our basic preprocessed dataset using the **BasicPradoAugmentation** class. We'll give each subaugmentation a **10%** chance of happening."
   ]
  },
  {
   "cell_type": "code",
   "execution_count": 10,
   "id": "equivalent-housing",
   "metadata": {},
   "outputs": [],
   "source": [
    "basic_prado_augmentation = BasicPradoAugmentation(\n",
    "    insertion_probability=0.1,\n",
    "    deletion_probability=0.1,\n",
    "    swap_probability=0.1,\n",
    ")"
   ]
  },
  {
   "cell_type": "markdown",
   "id": "cubic-retro",
   "metadata": {},
   "source": [
    "However, our **BasicPradoAugmentation** is defined for a token, so we need to write a method that will translate whole token lists elementwise."
   ]
  },
  {
   "cell_type": "code",
   "execution_count": 11,
   "id": "compressed-egypt",
   "metadata": {},
   "outputs": [],
   "source": [
    "def elementwise_augmentation(x):\n",
    "    for i in range(len(x)):\n",
    "        x[i] = basic_prado_augmentation(x[i])\n",
    "        \n",
    "    return x"
   ]
  },
  {
   "cell_type": "markdown",
   "id": "obvious-survivor",
   "metadata": {},
   "source": [
    "Now we can use `elementwise_augmentation` as a transformation function for our new **ProcessedDataset** instance."
   ]
  },
  {
   "cell_type": "code",
   "execution_count": 12,
   "id": "about-league",
   "metadata": {},
   "outputs": [
    {
     "name": "stdout",
     "output_type": "stream",
     "text": [
      "Transforming dataset: 100%|██████████| 25000/25000 [01:44<00:00, 238.95it/s]\n"
     ]
    }
   ],
   "source": [
    "basic_augmented_dataset = ProcessedDataset(\n",
    "    original_dataset=basic_preprocessed_dataset,\n",
    "    transformation_map={\n",
    "        0: elementwise_augmentation\n",
    "    },\n",
    "    verbosity=1,\n",
    ")"
   ]
  },
  {
   "cell_type": "code",
   "execution_count": 13,
   "id": "reserved-basketball",
   "metadata": {},
   "outputs": [
    {
     "name": "stdout",
     "output_type": "stream",
     "text": [
      "['this', 'film', 'reminds', 'me', 'of', 'how', 'college', 'students', 'used', 'to', 'protest', 'against', 'the', 'ivetnam', 'war', '.', 'as', 'if', 'upon', 'hearing', 'some', 'kxid', 'were', 'doing', 'without', 'cheeseburgers', 'in', 'cow', 'dung', 'collehe', 'thje', 'president', 'was', 'going', 'tyo', 'immediately', 'change', 'all', 'us', 'foreign', 'policy', '.', 'the', 'worst', 'thing', 'is', 'that', 'while', 'dangerous', 'the', 'concept', 'f', 'a', 'policy', 'absed', 'on', 'ikf', 'the', 'ussr', 'nad', 'su', 'went', 'to', 'war', 'it', 'could', 'mean', 'the', 'ed', 'of', 'the', 'world', 'worked', 'j.', 'the', 'uls', 'agnd', 'ussr', 'never', 'went', 'to', 'war', '.', 'had', 'we', 'only', 'convntional', 'weapons', 'th', 'notion', 'of', 'yet', 'another', 'war', 'a', 'win', 'able', 'awr', 'in', 'eeurope', 'avnd', 'asi', 'was', 'not', 'unthinkable', '.', 'not', 'that', 'i', 'think', 'they', 'should', 'get', 'rid', 'tf', 'htis', 'movie', '.', 'it', 'should', 'be', 'seen', 'by', 'iflm', 'students', 'sa', 'a', 'splendid', 'example', 'fo', 'how', 'not', 't', 'makce', 'a', 'film', '.', 'it', 'hould', 'be', '0', 'stars', 'odr', 'maybe', 'lback', 'hoes', '...']\n",
      "\n",
      "Labeled as negative\n",
      "\n",
      "\n",
      "['i', 'love', 'memoirs', 'of', 'a', 'geisha', 'so', 'ii', 'read', 'the', 'book', 'twice', 'it', 'is', 'noe', 'jo', 'the', 'best', 'bosok', 'i', \"v'e\", 'read', 'alzst', 'year', '.', 'i', 'was', 'lookng', 'forward', 'to', 'the', 'pmovie', 'and', 'wbas', 'afraid', 'htat', 'erading', 'the', 'book', 'would', 'ruin', 'hte', 'ivewing', 'lpeasure', 'ocf', 'hte', 'movie', '.', 'i', 'was', \"n't\", 'expecting', 'the', 'movie', 'to', 'be', 'that', 'bad', '.', 'some', 'of', 'the', 'best', 'parkt', 'of', 'the', 'book', 'was', 'moitted', 'from', 'the', 'movie', 'and', 'the', 'characters', 'were', 'weak', 'with', 'hatsumompo', 'li', 'gonyg', 'been', 'hte', 'worsrt', '.', 'if', 'i', 'have', \"nx't\", 'read', 'the', 'book', 'this', 'movie', 'would', 'be', 'a', 'little', 'conjfusing', 'and', 'inexplicablge', '.', 'the', 'plot', 'outline', 'of', 'hte', 'movie', 'states', 'nitta', 'slayuri', 'erveals', 'how', 'se', 'transcended', 'her', 'fishing', '...', 'did', 'anyone', 'see', 'ohw', 'ro', 'when', 'syuri', 'became', 'nitta', 'sayuri', '?', 'forget', 'the', 'movie', 'nad', 'read', 'the', 'book', '.']\n",
      "\n",
      "Labeled as negative\n",
      "\n",
      "\n",
      "['if', 'yo', 'are', 'expecting', 'to', 'see', 'a', 'lo', 'ni', 'the', 'bath', 'of', 'altıoklar', 'as', 'it', 'is', 'promised', 'by', 'the', 'tag', 'line', 'you', 'will', 'be', 'very', 'disappointed', 'to', 'see', 'that', 'the', 'movie', 'consists', 'of', 'nothing', 'bfut', 'the', 'populist', 'tsyle', 'of', 'altıoklar', 'regarding', 'mot', 'famous', 'issues', 'lie', 'sex', 'marriage', 'nad', 'cheating', '.', 'to', 'much', 'nudity', 'which', 'seems', 'to', 'appear', 'fgrom', 'nowhere', 'aned', 'has', 'no', 'connection', 'or', 'whatsoever', 't', 'the', 'plot', 'proves', 'tha', 'latıoklar', 'was', 'unsucessfully', 'to', 'try', 'something', 'new', 'as', 'he', 'has', 'quoted', '.', 'to', 'tmuch', 'sefx', 'ecntered', 'ojkes', 'seems', 'to', 'show', 'that', 'latıoklar', 'had', 'allen', 'ofr', 'the', 'famous', 'saying', 'wich', 'is', 'esx', 'sells', '.', 'i', 'was', 'hoping', 'to', 'ese', 'a', 'ery', 'good', 'story', 'told', 'ith', 'a', 'very', 'good', 'narration', 'technique', '.', 'however', 'n', 'the', 'ed', 'i', 'found', 'myself', 'sitdting', 'ddown', 'for', '90', 'minutes', 'ad', 'watchng', 'atıdoklar', \"'s\", 'experimental', 'tyet', 'tsill', 'to', 'mluh', 'focused', 'no', 'poplarism', 'owork', '.']\n",
      "\n",
      "Labeled as negative\n",
      "\n",
      "\n"
     ]
    }
   ],
   "source": [
    "for text, label in basic_augmented_dataset[:3]:\n",
    "    label_string = \"negative\" if label == 0 else \"positive\"\n",
    "    \n",
    "    print(f\"{text}\\n\\nLabeled as {label_string}\\n\\n\")"
   ]
  },
  {
   "cell_type": "markdown",
   "id": "precise-hundred",
   "metadata": {},
   "source": [
    "Note that while training, the probability of augmentation will be significantly lower. Also, the lower the augmentation percentage, the quicker the augmentation."
   ]
  }
 ],
 "metadata": {
  "kernelspec": {
   "display_name": "nlp-project",
   "language": "python",
   "name": "nlp-project"
  },
  "language_info": {
   "codemirror_mode": {
    "name": "ipython",
    "version": 3
   },
   "file_extension": ".py",
   "mimetype": "text/x-python",
   "name": "python",
   "nbconvert_exporter": "python",
   "pygments_lexer": "ipython3",
   "version": "3.8.5"
  }
 },
 "nbformat": 4,
 "nbformat_minor": 5
}
